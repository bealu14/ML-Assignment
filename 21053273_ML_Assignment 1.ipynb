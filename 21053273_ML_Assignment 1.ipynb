{
 "cells": [
  {
   "cell_type": "markdown",
   "id": "7c9f9feb",
   "metadata": {},
   "source": [
    "# 21053273, Bealu Girma\n",
    "# github link: https://github.com/bealu14/ML-Assignment"
   ]
  },
  {
   "cell_type": "code",
   "execution_count": 28,
   "id": "4a3714da",
   "metadata": {},
   "outputs": [],
   "source": [
    "import numpy as np\n",
    "import matplotlib.pyplot as plt\n",
    "import pandas as pd"
   ]
  },
  {
   "cell_type": "code",
   "execution_count": 29,
   "id": "4b613c13",
   "metadata": {},
   "outputs": [],
   "source": [
    "path = \"dataset.csv\"\n",
    "data = pd.read_csv(path)"
   ]
  },
  {
   "cell_type": "code",
   "execution_count": 30,
   "id": "955d113f",
   "metadata": {},
   "outputs": [
    {
     "data": {
      "text/html": [
       "<div>\n",
       "<style scoped>\n",
       "    .dataframe tbody tr th:only-of-type {\n",
       "        vertical-align: middle;\n",
       "    }\n",
       "\n",
       "    .dataframe tbody tr th {\n",
       "        vertical-align: top;\n",
       "    }\n",
       "\n",
       "    .dataframe thead th {\n",
       "        text-align: right;\n",
       "    }\n",
       "</style>\n",
       "<table border=\"1\" class=\"dataframe\">\n",
       "  <thead>\n",
       "    <tr style=\"text-align: right;\">\n",
       "      <th></th>\n",
       "      <th>Predictor variable</th>\n",
       "      <th>response variable</th>\n",
       "    </tr>\n",
       "  </thead>\n",
       "  <tbody>\n",
       "    <tr>\n",
       "      <th>0</th>\n",
       "      <td>9.1</td>\n",
       "      <td>0.99523</td>\n",
       "    </tr>\n",
       "    <tr>\n",
       "      <th>1</th>\n",
       "      <td>8.0</td>\n",
       "      <td>0.99007</td>\n",
       "    </tr>\n",
       "    <tr>\n",
       "      <th>2</th>\n",
       "      <td>9.1</td>\n",
       "      <td>0.99769</td>\n",
       "    </tr>\n",
       "    <tr>\n",
       "      <th>3</th>\n",
       "      <td>8.4</td>\n",
       "      <td>0.99386</td>\n",
       "    </tr>\n",
       "    <tr>\n",
       "      <th>4</th>\n",
       "      <td>6.9</td>\n",
       "      <td>0.99508</td>\n",
       "    </tr>\n",
       "    <tr>\n",
       "      <th>5</th>\n",
       "      <td>7.7</td>\n",
       "      <td>0.99630</td>\n",
       "    </tr>\n",
       "    <tr>\n",
       "      <th>6</th>\n",
       "      <td>15.6</td>\n",
       "      <td>1.00320</td>\n",
       "    </tr>\n",
       "    <tr>\n",
       "      <th>7</th>\n",
       "      <td>7.3</td>\n",
       "      <td>0.99768</td>\n",
       "    </tr>\n",
       "    <tr>\n",
       "      <th>8</th>\n",
       "      <td>7.0</td>\n",
       "      <td>0.99584</td>\n",
       "    </tr>\n",
       "    <tr>\n",
       "      <th>9</th>\n",
       "      <td>7.2</td>\n",
       "      <td>0.99609</td>\n",
       "    </tr>\n",
       "    <tr>\n",
       "      <th>10</th>\n",
       "      <td>10.1</td>\n",
       "      <td>0.99774</td>\n",
       "    </tr>\n",
       "    <tr>\n",
       "      <th>11</th>\n",
       "      <td>11.5</td>\n",
       "      <td>1.00030</td>\n",
       "    </tr>\n",
       "    <tr>\n",
       "      <th>12</th>\n",
       "      <td>7.1</td>\n",
       "      <td>0.99694</td>\n",
       "    </tr>\n",
       "    <tr>\n",
       "      <th>13</th>\n",
       "      <td>10.0</td>\n",
       "      <td>0.99965</td>\n",
       "    </tr>\n",
       "    <tr>\n",
       "      <th>14</th>\n",
       "      <td>8.9</td>\n",
       "      <td>0.99549</td>\n",
       "    </tr>\n",
       "    <tr>\n",
       "      <th>15</th>\n",
       "      <td>7.9</td>\n",
       "      <td>0.99364</td>\n",
       "    </tr>\n",
       "    <tr>\n",
       "      <th>16</th>\n",
       "      <td>5.6</td>\n",
       "      <td>0.99378</td>\n",
       "    </tr>\n",
       "    <tr>\n",
       "      <th>17</th>\n",
       "      <td>6.3</td>\n",
       "      <td>0.99379</td>\n",
       "    </tr>\n",
       "    <tr>\n",
       "      <th>18</th>\n",
       "      <td>6.7</td>\n",
       "      <td>0.99524</td>\n",
       "    </tr>\n",
       "    <tr>\n",
       "      <th>19</th>\n",
       "      <td>10.4</td>\n",
       "      <td>0.99880</td>\n",
       "    </tr>\n",
       "  </tbody>\n",
       "</table>\n",
       "</div>"
      ],
      "text/plain": [
       "    Predictor variable  response variable\n",
       "0                  9.1            0.99523\n",
       "1                  8.0            0.99007\n",
       "2                  9.1            0.99769\n",
       "3                  8.4            0.99386\n",
       "4                  6.9            0.99508\n",
       "5                  7.7            0.99630\n",
       "6                 15.6            1.00320\n",
       "7                  7.3            0.99768\n",
       "8                  7.0            0.99584\n",
       "9                  7.2            0.99609\n",
       "10                10.1            0.99774\n",
       "11                11.5            1.00030\n",
       "12                 7.1            0.99694\n",
       "13                10.0            0.99965\n",
       "14                 8.9            0.99549\n",
       "15                 7.9            0.99364\n",
       "16                 5.6            0.99378\n",
       "17                 6.3            0.99379\n",
       "18                 6.7            0.99524\n",
       "19                10.4            0.99880"
      ]
     },
     "execution_count": 30,
     "metadata": {},
     "output_type": "execute_result"
    }
   ],
   "source": [
    "data.head(10)"
   ]
  },
  {
   "cell_type": "code",
   "execution_count": 32,
   "id": "65a7b59e",
   "metadata": {
    "scrolled": true
   },
   "outputs": [
    {
     "data": {
      "text/html": [
       "<div>\n",
       "<style scoped>\n",
       "    .dataframe tbody tr th:only-of-type {\n",
       "        vertical-align: middle;\n",
       "    }\n",
       "\n",
       "    .dataframe tbody tr th {\n",
       "        vertical-align: top;\n",
       "    }\n",
       "\n",
       "    .dataframe thead th {\n",
       "        text-align: right;\n",
       "    }\n",
       "</style>\n",
       "<table border=\"1\" class=\"dataframe\">\n",
       "  <thead>\n",
       "    <tr style=\"text-align: right;\">\n",
       "      <th></th>\n",
       "      <th>Predictor variable</th>\n",
       "      <th>response variable</th>\n",
       "    </tr>\n",
       "  </thead>\n",
       "  <tbody>\n",
       "    <tr>\n",
       "      <th>0</th>\n",
       "      <td>9.1</td>\n",
       "      <td>0.99523</td>\n",
       "    </tr>\n",
       "    <tr>\n",
       "      <th>1</th>\n",
       "      <td>8.0</td>\n",
       "      <td>0.99007</td>\n",
       "    </tr>\n",
       "    <tr>\n",
       "      <th>2</th>\n",
       "      <td>9.1</td>\n",
       "      <td>0.99769</td>\n",
       "    </tr>\n",
       "    <tr>\n",
       "      <th>3</th>\n",
       "      <td>8.4</td>\n",
       "      <td>0.99386</td>\n",
       "    </tr>\n",
       "    <tr>\n",
       "      <th>4</th>\n",
       "      <td>6.9</td>\n",
       "      <td>0.99508</td>\n",
       "    </tr>\n",
       "    <tr>\n",
       "      <th>...</th>\n",
       "      <td>...</td>\n",
       "      <td>...</td>\n",
       "    </tr>\n",
       "    <tr>\n",
       "      <th>95</th>\n",
       "      <td>7.8</td>\n",
       "      <td>0.99620</td>\n",
       "    </tr>\n",
       "    <tr>\n",
       "      <th>96</th>\n",
       "      <td>10.2</td>\n",
       "      <td>0.99760</td>\n",
       "    </tr>\n",
       "    <tr>\n",
       "      <th>97</th>\n",
       "      <td>6.1</td>\n",
       "      <td>0.99464</td>\n",
       "    </tr>\n",
       "    <tr>\n",
       "      <th>98</th>\n",
       "      <td>7.3</td>\n",
       "      <td>0.99830</td>\n",
       "    </tr>\n",
       "    <tr>\n",
       "      <th>99</th>\n",
       "      <td>7.3</td>\n",
       "      <td>0.99670</td>\n",
       "    </tr>\n",
       "  </tbody>\n",
       "</table>\n",
       "<p>100 rows × 2 columns</p>\n",
       "</div>"
      ],
      "text/plain": [
       "    Predictor variable  response variable\n",
       "0                  9.1            0.99523\n",
       "1                  8.0            0.99007\n",
       "2                  9.1            0.99769\n",
       "3                  8.4            0.99386\n",
       "4                  6.9            0.99508\n",
       "..                 ...                ...\n",
       "95                 7.8            0.99620\n",
       "96                10.2            0.99760\n",
       "97                 6.1            0.99464\n",
       "98                 7.3            0.99830\n",
       "99                 7.3            0.99670\n",
       "\n",
       "[100 rows x 2 columns]"
      ]
     },
     "execution_count": 32,
     "metadata": {},
     "output_type": "execute_result"
    }
   ],
   "source": [
    "data"
   ]
  },
  {
   "cell_type": "code",
   "execution_count": 33,
   "id": "516aaefc",
   "metadata": {},
   "outputs": [],
   "source": [
    "X = data['Predictor variable']\n",
    "Y = data['response variable']"
   ]
  },
  {
   "cell_type": "code",
   "execution_count": 34,
   "id": "146863b6",
   "metadata": {},
   "outputs": [
    {
     "name": "stdout",
     "output_type": "stream",
     "text": [
      "Linear regression with NumPy. Slope: 0.000777771124184783. Intercept: 0.9903497091968216\n"
     ]
    }
   ],
   "source": [
    "m_numpy, b_numpy = np.polyfit(X, Y, 1)\n",
    "\n",
    "print(f\"Linear regression with NumPy. Slope: {m_numpy}. Intercept: {b_numpy}\")"
   ]
  },
  {
   "cell_type": "code",
   "execution_count": 35,
   "id": "66341d73",
   "metadata": {},
   "outputs": [],
   "source": [
    "def pred_numpy(m, b, X):\n",
    "    Y = m * X + b\n",
    "    \n",
    "    \n",
    "    return Y"
   ]
  },
  {
   "cell_type": "code",
   "execution_count": 36,
   "id": "87258c1b",
   "metadata": {},
   "outputs": [
    {
     "name": "stdout",
     "output_type": "stream",
     "text": [
      "Predictor variable:\n",
      "[ 50 120 280]\n",
      "Predictions of response variable using NumPy linear regression:\n",
      "[1.02923827 1.08368224 1.20812562]\n"
     ]
    }
   ],
   "source": [
    "X_pred = np.array([50, 120, 280])\n",
    "Y_pred_numpy = pred_numpy(m_numpy, b_numpy, X_pred)\n",
    "\n",
    "print(f\"Predictor variable:\\n{X_pred}\")\n",
    "print(f\"Predictions of response variable using NumPy linear regression:\\n{Y_pred_numpy}\")"
   ]
  },
  {
   "cell_type": "code",
   "execution_count": 38,
   "id": "e41fef54",
   "metadata": {},
   "outputs": [],
   "source": [
    "X_norm = (X - np.mean(X))/np.std(X)\n",
    "Y_norm = (Y - np.mean(Y))/np.std(Y)"
   ]
  },
  {
   "cell_type": "code",
   "execution_count": 39,
   "id": "339a91da",
   "metadata": {},
   "outputs": [],
   "source": [
    "def E(m, b, X, Y):\n",
    "    return 1/(2*len(Y))*np.sum((m*X + b - Y)**2)"
   ]
  },
  {
   "cell_type": "code",
   "execution_count": 55,
   "id": "498a3b13",
   "metadata": {},
   "outputs": [
    {
     "name": "stdout",
     "output_type": "stream",
     "text": [
      "-0.655064426354388\n",
      "1.6822723769571725e-13\n",
      "0.3449355736456087\n",
      "5.000000000000169\n"
     ]
    }
   ],
   "source": [
    " def dEdm(m, b, X, Y):\n",
    "    res = 1/len(Y)*np.dot(m*X + b - Y, X)\n",
    "    \n",
    "    return res\n",
    "    \n",
    "\n",
    "def dEdb(m, b, X, Y):\n",
    "   \n",
    "    res = 1/len(Y)*np.sum(m*X + b - Y)\n",
    "    \n",
    "    return res\n",
    "\n",
    "\n",
    "print(dEdm(0, 0, X_norm, Y_norm))\n",
    "print(dEdb(0, 0, X_norm, Y_norm))\n",
    "print(dEdm(1, 5, X_norm, Y_norm))\n",
    "print(dEdb(1, 5, X_norm, Y_norm))"
   ]
  },
  {
   "cell_type": "markdown",
   "id": "aae1c563",
   "metadata": {},
   "source": [
    "# 1)Use linear regression to fit a straight line to the given database. Set your learning rate to 0.5. What are the cost function value and learning parameters values after convergence? Also, mention the convergence criteria you used."
   ]
  },
  {
   "cell_type": "code",
   "execution_count": 56,
   "id": "dda6c11e",
   "metadata": {},
   "outputs": [
    {
     "name": "stdout",
     "output_type": "stream",
     "text": [
      "Batch Gradient Descent - Coefficients:\n",
      "Slope (m): 0.655064426354388\n",
      "Intercept (b): -1.6777079725471822e-13\n"
     ]
    }
   ],
   "source": [
    "def dEdm(m, b, X, Y):\n",
    "    return 2/len(Y) * np.dot((m*X + b - Y), X)\n",
    "\n",
    "def dEdb(m, b, X, Y):\n",
    "    return 2/len(Y) * np.sum(m*X + b - Y)\n",
    "\n",
    "\n",
    "def batch_gradient_descent(X, Y, learning_rate, iterations):\n",
    "    m = 0\n",
    "    b = 0\n",
    "    cost_history = []\n",
    "\n",
    "    for i in range(iterations):\n",
    "        \n",
    "        m = m - learning_rate * dEdm(m, b, X, Y)\n",
    "        b = b - learning_rate * dEdb(m, b, X, Y)\n",
    "\n",
    "        \n",
    "        cost = np.mean((m*X + b - Y)**2)\n",
    "        cost_history.append(cost)\n",
    "\n",
    "    return m, b, cost_history\n",
    "\n",
    "\n",
    "learning_rate_batch = 0.5\n",
    "iterations_batch = 1000\n",
    "\n",
    "\n",
    "m_batch, b_batch, cost_history_batch = batch_gradient_descent(X_norm, Y_norm, learning_rate_batch, iterations_batch)\n",
    "\n",
    "\n",
    "print(\"Batch Gradient Descent - Coefficients:\")\n",
    "print(\"Slope (m):\", m_batch)\n",
    "print(\"Intercept (b):\", b_batch)\n"
   ]
  },
  {
   "cell_type": "markdown",
   "id": "e9501c59",
   "metadata": {},
   "source": [
    "# 5 Test your regression model with the learning rates Ir = 0.005, Ir = 0.5, Ir = 5 For each learning rate, plot a graph showing how the cost function changes every iteration and write your observation."
   ]
  },
  {
   "cell_type": "code",
   "execution_count": 57,
   "id": "a40036a9",
   "metadata": {},
   "outputs": [
    {
     "name": "stdout",
     "output_type": "stream",
     "text": [
      "Batch Gradient Descent - Coefficients:\n",
      "Slope (m): 0.6550644263543874\n",
      "Intercept (b): -1.6777003397639057e-13\n"
     ]
    }
   ],
   "source": [
    "def dEdm(m, b, X, Y):\n",
    "    return 2/len(Y) * np.dot((m*X + b - Y), X)\n",
    "\n",
    "def dEdb(m, b, X, Y):\n",
    "    return 2/len(Y) * np.sum(m*X + b - Y)\n",
    "\n",
    "\n",
    "def batch_gradient_descent(X, Y, learning_rate, iterations):\n",
    "    m = 0\n",
    "    b = 0\n",
    "    cost_history = []\n",
    "\n",
    "    for i in range(iterations):\n",
    "        \n",
    "        m = m - learning_rate * dEdm(m, b, X, Y)\n",
    "        b = b - learning_rate * dEdb(m, b, X, Y)\n",
    "\n",
    "        \n",
    "        cost = np.mean((m*X + b - Y)**2)\n",
    "        cost_history.append(cost)\n",
    "\n",
    "    return m, b, cost_history\n",
    "\n",
    "\n",
    "learning_rate_batch = 0.05\n",
    "iterations_batch = 1000\n",
    "\n",
    "\n",
    "m_batch, b_batch, cost_history_batch = batch_gradient_descent(X_norm, Y_norm, learning_rate_batch, iterations_batch)\n",
    "\n",
    "\n",
    "print(\"Batch Gradient Descent - Coefficients:\")\n",
    "print(\"Slope (m):\", m_batch)\n",
    "print(\"Intercept (b):\", b_batch)"
   ]
  },
  {
   "cell_type": "markdown",
   "id": "6636dd12",
   "metadata": {},
   "source": [
    "# 4 Plot the given dataset on a graph and also print the straight line you obtained in question 1 to show how it fits the data."
   ]
  },
  {
   "cell_type": "code",
   "execution_count": 58,
   "id": "efe6d9c2",
   "metadata": {},
   "outputs": [
    {
     "data": {
      "image/png": "[encoded data removed]",
      "text/plain": [
       "<Figure size 640x480 with 1 Axes>"
      ]
     },
     "metadata": {},
     "output_type": "display_data"
    }
   ],
   "source": [
    "plt.scatter(X_norm, Y_norm, color=\"r\", edgecolor=\"b\", label=\"Original Data\")\n",
    "plt.plot(X_norm, m_batch*X_norm + b_batch, color=\"g\", label=\"Regression Line (Batch GD)\")\n",
    "plt.xlabel('Predictor variable', fontsize=15)\n",
    "plt.ylabel(\"Response variable\", fontsize=15)\n",
    "plt.title(\"Linear Regression using Batch Gradient Descent\")\n",
    "plt.legend()\n",
    "plt.show()"
   ]
  },
  {
   "cell_type": "markdown",
   "id": "9038a3dd",
   "metadata": {},
   "source": [
    "# 3. Plot cost function v/ s iteration graph for the model in question 1."
   ]
  },
  {
   "cell_type": "code",
   "execution_count": 59,
   "id": "74fcf864",
   "metadata": {},
   "outputs": [
    {
     "data": {
      "image/png": "[encoded data removed]",
      "text/plain": [
       "<Figure size 640x480 with 1 Axes>"
      ]
     },
     "metadata": {},
     "output_type": "display_data"
    }
   ],
   "source": [
    "plt.plot(range(1, iterations_batch + 1), cost_history_batch, label='Batch GD', marker='o')\n",
    "plt.xlabel('Iterations')\n",
    "plt.ylabel('Cost Function')\n",
    "plt.title('Cost Function vs. Iteration')\n",
    "plt.legend()\n",
    "plt.show()"
   ]
  },
  {
   "cell_type": "code",
   "execution_count": 61,
   "id": "54b0e231",
   "metadata": {},
   "outputs": [
    {
     "name": "stdout",
     "output_type": "stream",
     "text": [
      "Stochastic Gradient Descent - Coefficients:\n",
      "Slope (m): 0.633266587828981\n",
      "Intercept (b): 0.045941712422476744\n"
     ]
    }
   ],
   "source": [
    "\n",
    "def dEdm(m, b, x, y):\n",
    "    return 2 * x * (m*x + b - y)\n",
    "\n",
    "# Function to calculate the gradient of the cost with respect to b\n",
    "def dEdb(m, b, x, y):\n",
    "    return 2 * (m*x + b - y)\n",
    "\n",
    "# Function to perform stochastic gradient descent\n",
    "def stochastic_gradient_descent(X, Y, learning_rate, iterations):\n",
    "    m = 0\n",
    "    b = 0\n",
    "    cost_history = []\n",
    "\n",
    "    for i in range(iterations):\n",
    "        for j in range(len(Y)):\n",
    "            # Update parameters using stochastic gradient descent\n",
    "            m = m - learning_rate * dEdm(m, b, X[j], Y[j])\n",
    "            b = b - learning_rate * dEdb(m, b, X[j], Y[j])\n",
    "\n",
    "        # Calculate and store the cost\n",
    "        cost = np.mean((m*X + b - Y)**2)\n",
    "        cost_history.append(cost)\n",
    "\n",
    "    return m, b, cost_history\n",
    "\n",
    "# Set hyperparameters\n",
    "learning_rate_stochastic = 0.01\n",
    "iterations_stochastic = 1000\n",
    "\n",
    "# Perform linear regression using stochastic gradient descent\n",
    "m_stochastic, b_stochastic, cost_history_stochastic = stochastic_gradient_descent(X_norm, Y_norm, learning_rate_stochastic, iterations_stochastic)\n",
    "\n",
    "# Display the results\n",
    "print(\"Stochastic Gradient Descent - Coefficients:\")\n",
    "print(\"Slope (m):\", m_stochastic)\n",
    "print(\"Intercept (b):\", b_stochastic)\n",
    "\n"
   ]
  },
  {
   "cell_type": "code",
   "execution_count": 62,
   "id": "da490a40",
   "metadata": {},
   "outputs": [
    {
     "name": "stdout",
     "output_type": "stream",
     "text": [
      "Mini-Batch Gradient Descent - Coefficients:\n",
      "Slope (m): 0.7143332703229924\n",
      "Intercept (b): -0.1271726088974767\n"
     ]
    }
   ],
   "source": [
    "\n",
    "# Function to calculate the gradient of the cost with respect to m\n",
    "def dEdm(m, b, X, Y):\n",
    "    return 2/len(Y) * np.dot((m*X + b - Y), X)\n",
    "\n",
    "# Function to calculate the gradient of the cost with respect to b\n",
    "def dEdb(m, b, X, Y):\n",
    "    return 2/len(Y) * np.sum(m*X + b - Y)\n",
    "\n",
    "# Function to perform mini-batch gradient descent\n",
    "def mini_batch_gradient_descent(X, Y, learning_rate, batch_size, iterations):\n",
    "    m = 0\n",
    "    b = 0\n",
    "    cost_history = []\n",
    "\n",
    "    for i in range(iterations):\n",
    "        # Randomly shuffle the data\n",
    "        permutation = np.random.permutation(len(Y))\n",
    "        X_shuffled = X[permutation]\n",
    "        Y_shuffled = Y[permutation]\n",
    "\n",
    "        # Update parameters using mini-batch gradient descent\n",
    "        for j in range(0, len(Y), batch_size):\n",
    "            X_batch = X_shuffled[j:j+batch_size]\n",
    "            Y_batch = Y_shuffled[j:j+batch_size]\n",
    "            m = m - learning_rate * dEdm(m, b, X_batch, Y_batch)\n",
    "            b = b - learning_rate * dEdb(m, b, X_batch, Y_batch)\n",
    "\n",
    "        # Calculate and store the cost\n",
    "        cost = np.mean((m*X + b - Y)**2)\n",
    "        cost_history.append(cost)\n",
    "\n",
    "    return m, b, cost_history\n",
    "\n",
    "# Set hyperparameters\n",
    "learning_rate_mini_batch = 0.5\n",
    "batch_size = 20\n",
    "iterations_mini_batch = 500\n",
    "\n",
    "# Perform linear regression using mini-batch gradient descent\n",
    "m_mini_batch, b_mini_batch, cost_history_mini_batch = mini_batch_gradient_descent(X_norm, Y_norm, learning_rate_mini_batch, batch_size, iterations_mini_batch)\n",
    "\n",
    "# Display the results\n",
    "print(\"Mini-Batch Gradient Descent - Coefficients:\")\n",
    "print(\"Slope (m):\", m_mini_batch)\n",
    "print(\"Intercept (b):\", b_mini_batch)\n",
    "\n",
    "\n"
   ]
  },
  {
   "cell_type": "code",
   "execution_count": null,
   "id": "8b5aec39",
   "metadata": {},
   "outputs": [],
   "source": []
  },
  {
   "cell_type": "code",
   "execution_count": 63,
   "id": "7d4818f7",
   "metadata": {},
   "outputs": [],
   "source": [
    "# Perform linear regression using mini-batch gradient descent\n",
    "learning_rate_mini_batch = 0.1\n",
    "batch_size_mini_batch = 20\n",
    "iterations_mini_batch = 1000\n",
    "m_mini_batch, b_mini_batch, cost_history_mini_batch = mini_batch_gradient_descent(X_norm, Y_norm, learning_rate_mini_batch, batch_size_mini_batch, iterations_mini_batch)\n"
   ]
  },
  {
   "cell_type": "markdown",
   "id": "afb704b7",
   "metadata": {},
   "source": [
    "# 6. Choose a suitable learning rate, then implement stochastic and min-batch gradient descent, plot the cost function against iteration, and observe how your cost function changes compared to batch gradient descent."
   ]
  },
  {
   "cell_type": "code",
   "execution_count": 64,
   "id": "83a180d4",
   "metadata": {
    "scrolled": true
   },
   "outputs": [
    {
     "data": {
      "image/png": "[encoded data removed]",
      "text/plain": [
       "<Figure size 640x480 with 1 Axes>"
      ]
     },
     "metadata": {},
     "output_type": "display_data"
    }
   ],
   "source": [
    "plt.plot(range(1, iterations_batch + 1), cost_history_batch, label='Batch GD', marker='o')\n",
    "plt.plot(range(1, iterations_stochastic + 1), cost_history_stochastic, label='Stochastic GD', marker='o')\n",
    "plt.plot(range(1, iterations_mini_batch + 1), cost_history_mini_batch, label='Mini-Batch GD', marker='o')\n",
    "\n",
    "plt.xlabel('Iterations')\n",
    "plt.ylabel('Cost Function')\n",
    "plt.title('Cost Function vs. Iteration')\n",
    "plt.legend()\n",
    "plt.show()"
   ]
  },
  {
   "cell_type": "markdown",
   "id": "69c18793",
   "metadata": {},
   "source": [
    "# 2The cost function that we are using in this assignment is different than the one we used in class. Can you think of the advantage of averaging the cost?\n"
   ]
  },
  {
   "cell_type": "code",
   "execution_count": null,
   "id": "20d53851",
   "metadata": {},
   "outputs": [],
   "source": [
    "Averaging the cost function provides key advantages in optimization and model training. It smoothens the optimization \n",
    "landscape, aiding stable convergence during gradient descent and making the process less prone to local minima.\n",
    "Additionally, it enhances robustness by reducing the impact of outliers, promotes better generalization by mitigating \n",
    "sensitivity to training data variations, and acts as implicit regularization, discouraging overfitting. \n",
    "Overall, averaging the cost function improves stability, robustness, and generalization in model optimization."
   ]
  }
 ],
 "metadata": {
  "kernelspec": {
   "display_name": "Python 3 (ipykernel)",
   "language": "python",
   "name": "python3"
  },
  "language_info": {
   "codemirror_mode": {
    "name": "ipython",
    "version": 3
   },
   "file_extension": ".py",
   "mimetype": "text/x-python",
   "name": "python",
   "nbconvert_exporter": "python",
   "pygments_lexer": "ipython3",
   "version": "3.9.13"
  }
 },
 "nbformat": 4,
 "nbformat_minor": 5
}
